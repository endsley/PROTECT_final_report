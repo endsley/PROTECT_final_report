{
 "cells": [
  {
   "cell_type": "code",
   "execution_count": 4,
   "metadata": {},
   "outputs": [],
   "source": [
    "#!/usr/bin/env python"
   ]
  },
  {
   "cell_type": "code",
   "execution_count": 5,
   "metadata": {},
   "outputs": [
    {
     "name": "stderr",
     "output_type": "stream",
     "text": [
      "2022-03-24 09:50:09.886408: I tensorflow/stream_executor/platform/default/dso_loader.cc:49] Successfully opened dynamic library libcudart.so.11.0\n"
     ]
    }
   ],
   "source": [
    "import os\n",
    "import sys\n",
    "#import wuml\n",
    "if os.path.exists('/home/chieh/code/wuML'):\n",
    "\tsys.path.insert(0,'/home/chieh/code/wuML')\n",
    "    \n",
    "import wuml\n",
    "import numpy as np\n",
    "import wplotlib"
   ]
  },
  {
   "cell_type": "code",
   "execution_count": 6,
   "metadata": {},
   "outputs": [],
   "source": [
    "#data = wuml.wData('../data/Chem_decimated_imputed.csv', label_column_name='finalga_best', \n",
    "#\t\t\t\t\tlabel_type='continuous', row_id_with_label=0)\n",
    "data = wuml.wData('../data/Chem_decimated_imputed.csv', row_id_with_label=0)"
   ]
  },
  {
   "cell_type": "code",
   "execution_count": 10,
   "metadata": {},
   "outputs": [
    {
     "data": {
      "text/html": [
       "<div>\n",
       "<style scoped>\n",
       "    .dataframe tbody tr th:only-of-type {\n",
       "        vertical-align: middle;\n",
       "    }\n",
       "\n",
       "    .dataframe tbody tr th {\n",
       "        vertical-align: top;\n",
       "    }\n",
       "\n",
       "    .dataframe thead th {\n",
       "        text-align: right;\n",
       "    }\n",
       "</style>\n",
       "<table border=\"1\" class=\"dataframe\">\n",
       "  <thead>\n",
       "    <tr style=\"text-align: right;\">\n",
       "      <th></th>\n",
       "      <th></th>\n",
       "      <th>0</th>\n",
       "    </tr>\n",
       "  </thead>\n",
       "  <tbody>\n",
       "    <tr>\n",
       "      <th>MEHHP</th>\n",
       "      <th>MEOHP</th>\n",
       "      <td>0.977373</td>\n",
       "    </tr>\n",
       "    <tr>\n",
       "      <th>ISAGE</th>\n",
       "      <th>mage_cat</th>\n",
       "      <td>0.953710</td>\n",
       "    </tr>\n",
       "    <tr>\n",
       "      <th>MEHHP</th>\n",
       "      <th>MEHP</th>\n",
       "      <td>0.944584</td>\n",
       "    </tr>\n",
       "    <tr>\n",
       "      <th rowspan=\"2\" valign=\"top\">MECPP</th>\n",
       "      <th>MEOHP</th>\n",
       "      <td>0.943541</td>\n",
       "    </tr>\n",
       "    <tr>\n",
       "      <th>MEHHP</th>\n",
       "      <td>0.915136</td>\n",
       "    </tr>\n",
       "    <tr>\n",
       "      <th>MEHP</th>\n",
       "      <th>MEOHP</th>\n",
       "      <td>0.895767</td>\n",
       "    </tr>\n",
       "    <tr>\n",
       "      <th>preBMI</th>\n",
       "      <th>preBMI_cat</th>\n",
       "      <td>0.885047</td>\n",
       "    </tr>\n",
       "    <tr>\n",
       "      <th>MCOP</th>\n",
       "      <th>MCPP</th>\n",
       "      <td>0.859034</td>\n",
       "    </tr>\n",
       "    <tr>\n",
       "      <th>MECPP</th>\n",
       "      <th>MEHP</th>\n",
       "      <td>0.778089</td>\n",
       "    </tr>\n",
       "    <tr>\n",
       "      <th>MCNP</th>\n",
       "      <th>MCOP</th>\n",
       "      <td>0.640307</td>\n",
       "    </tr>\n",
       "  </tbody>\n",
       "</table>\n",
       "</div>"
      ],
      "text/plain": [
       "                          0\n",
       "MEHHP  MEOHP       0.977373\n",
       "ISAGE  mage_cat    0.953710\n",
       "MEHHP  MEHP        0.944584\n",
       "MECPP  MEOHP       0.943541\n",
       "       MEHHP       0.915136\n",
       "MEHP   MEOHP       0.895767\n",
       "preBMI preBMI_cat  0.885047\n",
       "MCOP   MCPP        0.859034\n",
       "MECPP  MEHP        0.778089\n",
       "MCNP   MCOP        0.640307"
      ]
     },
     "metadata": {},
     "output_type": "display_data"
    }
   ],
   "source": [
    "Dep = wuml.feature_wise_correlation(data, get_top_corr_pairs=True)\n",
    "wuml.jupyter_print(Dep)"
   ]
  },
  {
   "cell_type": "code",
   "execution_count": 11,
   "metadata": {},
   "outputs": [
    {
     "data": {
      "text/html": [
       "<div>\n",
       "<style scoped>\n",
       "    .dataframe tbody tr th:only-of-type {\n",
       "        vertical-align: middle;\n",
       "    }\n",
       "\n",
       "    .dataframe tbody tr th {\n",
       "        vertical-align: top;\n",
       "    }\n",
       "\n",
       "    .dataframe thead th {\n",
       "        text-align: right;\n",
       "    }\n",
       "</style>\n",
       "<table border=\"1\" class=\"dataframe\">\n",
       "  <thead>\n",
       "    <tr style=\"text-align: right;\">\n",
       "      <th></th>\n",
       "      <th></th>\n",
       "      <th>0</th>\n",
       "    </tr>\n",
       "  </thead>\n",
       "  <tbody>\n",
       "    <tr>\n",
       "      <th>ISAGE</th>\n",
       "      <th>mage_cat</th>\n",
       "      <td>0.877963</td>\n",
       "    </tr>\n",
       "    <tr>\n",
       "      <th>MEHHP</th>\n",
       "      <th>MEOHP</th>\n",
       "      <td>0.873673</td>\n",
       "    </tr>\n",
       "    <tr>\n",
       "      <th>preBMI</th>\n",
       "      <th>preBMI_cat</th>\n",
       "      <td>0.767521</td>\n",
       "    </tr>\n",
       "    <tr>\n",
       "      <th rowspan=\"2\" valign=\"top\">MECPP</th>\n",
       "      <th>MEOHP</th>\n",
       "      <td>0.703639</td>\n",
       "    </tr>\n",
       "    <tr>\n",
       "      <th>MEHHP</th>\n",
       "      <td>0.658949</td>\n",
       "    </tr>\n",
       "    <tr>\n",
       "      <th>MEHP</th>\n",
       "      <th>MEOHP</th>\n",
       "      <td>0.440601</td>\n",
       "    </tr>\n",
       "    <tr>\n",
       "      <th>MEHHP</th>\n",
       "      <th>MEHP</th>\n",
       "      <td>0.421383</td>\n",
       "    </tr>\n",
       "    <tr>\n",
       "      <th>MECPP</th>\n",
       "      <th>MEHP</th>\n",
       "      <td>0.342724</td>\n",
       "    </tr>\n",
       "    <tr>\n",
       "      <th>MCOP</th>\n",
       "      <th>MCPP</th>\n",
       "      <td>0.283978</td>\n",
       "    </tr>\n",
       "    <tr>\n",
       "      <th>ISAGE</th>\n",
       "      <th>edu_cat</th>\n",
       "      <td>0.263395</td>\n",
       "    </tr>\n",
       "  </tbody>\n",
       "</table>\n",
       "</div>"
      ],
      "text/plain": [
       "                          0\n",
       "ISAGE  mage_cat    0.877963\n",
       "MEHHP  MEOHP       0.873673\n",
       "preBMI preBMI_cat  0.767521\n",
       "MECPP  MEOHP       0.703639\n",
       "       MEHHP       0.658949\n",
       "MEHP   MEOHP       0.440601\n",
       "MEHHP  MEHP        0.421383\n",
       "MECPP  MEHP        0.342724\n",
       "MCOP   MCPP        0.283978\n",
       "ISAGE  edu_cat     0.263395"
      ]
     },
     "metadata": {},
     "output_type": "display_data"
    }
   ],
   "source": [
    "Dep2 = wuml.feature_wise_HSIC(data, get_top_dependent_pairs=True)\n",
    "wuml.jupyter_print(Dep2)"
   ]
  },
  {
   "cell_type": "code",
   "execution_count": null,
   "metadata": {},
   "outputs": [],
   "source": []
  }
 ],
 "metadata": {
  "kernelspec": {
   "display_name": "Python 3 (ipykernel)",
   "language": "python",
   "name": "python3"
  },
  "language_info": {
   "codemirror_mode": {
    "name": "ipython",
    "version": 3
   },
   "file_extension": ".py",
   "mimetype": "text/x-python",
   "name": "python",
   "nbconvert_exporter": "python",
   "pygments_lexer": "ipython3",
   "version": "3.7.10"
  }
 },
 "nbformat": 4,
 "nbformat_minor": 2
}
