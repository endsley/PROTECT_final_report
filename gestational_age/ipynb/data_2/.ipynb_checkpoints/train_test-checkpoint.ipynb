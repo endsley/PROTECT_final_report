{
 "cells": [
  {
   "cell_type": "code",
   "execution_count": 8,
   "metadata": {},
   "outputs": [
    {
     "data": {
      "text/html": [
       "<html><body><h3>Here we use the advance objective</h3></body></html>"
      ],
      "text/plain": [
       "<IPython.core.display.HTML object>"
      ]
     },
     "metadata": {},
     "output_type": "display_data"
    },
    {
     "data": {
      "text/latex": [
       "$\\displaystyle \\max\\limits_{\\theta} \\frac{1}{n}\\sum_i W_i(y_i -f_{\\theta}(x))^2 + \\frac{\\lambda}{n}\\sum_i ReLu\\left[ W_i(y_i -f_{\\theta}(x)) \\right]$"
      ],
      "text/plain": [
       "<IPython.core.display.Math object>"
      ]
     },
     "metadata": {},
     "output_type": "display_data"
    }
   ],
   "source": [
    "#!/usr/bin/env python\n",
    "import os\n",
    "import sys\n",
    "if os.path.exists('/home/chieh/code/wuML'):\n",
    "\tsys.path.insert(0,'/home/chieh/code/wuML')\n",
    "    \n",
    "import wuml\n",
    "import numpy as np\n",
    "import torch\n",
    "import wplotlib\n",
    "\n",
    "wuml.jupyter_print('Here we use the advance objective')\n",
    "wuml.jupyter_print(r'\\max\\limits_{\\theta} \\frac{1}{n}\\sum_i W_i(y_i -f_{\\theta}(x))^2 + \\frac{\\lambda}{n}\\sum_i ReLu\\left[ W_i(y_i -f_{\\theta}(x)) \\right]',latex=True)"
   ]
  },
  {
   "cell_type": "code",
   "execution_count": 9,
   "metadata": {},
   "outputs": [],
   "source": [
    "data = wuml.wData(xpath='../../data/data.comp3.csv', batch_size=20, \n",
    "\t\t\t\t\tlabel_type='continuous', label_column_name='finalga_best', \n",
    "\t\t\t\t\trow_id_with_label=0, columns_to_ignore=['id'])\n",
    "\n",
    "[X_train, X_test, y_train, y_test] = wuml.split_training_test(data, data_name='data.comp3', \n",
    "\t\t\t\t\t\t\t\t\t\tdata_path='../../data/', save_as='no saving',\n",
    "\t\t\t\t\t\t\t\t\t\txdata_type=\"%.4f\", ydata_type=\"%.4f\", test_percentage=0.1)\n",
    "\n",
    "λ = 0.8\n",
    "X_train = wuml.center_and_scale(X_train)\n",
    "weights = wuml.get_likelihood_weight(y_train)\n",
    "weights = weights.get_data_as('Tensor')\n",
    "\n",
    "def costFunction(x, y, ŷ, ind):\n",
    "\trelu = torch.nn.ReLU()\n",
    "\n",
    "\tW = torch.squeeze(weights[ind])\n",
    "\tn = len(ind)\n",
    "\tŷ = torch.squeeze(ŷ)\n",
    "\ty = torch.squeeze(y)\n",
    "\n",
    "\tpenalty = torch.sum(relu(W*(ŷ - y)))/n\t# This will penalize predictions higher than true labels\n",
    "\tloss = torch.sum(W*((y - ŷ)**2))/n + λ*penalty\n",
    "\treturn loss\n",
    "\n",
    "\n",
    "λlist = [0, 0.2, 0.4, 0.6, 0.8, 1, 1.2, 1.4, 1.6, 1.8]\n",
    "maxE_list = [500, 600, 700, 800, 900, 1000, 1200, 1400]\n",
    "\n",
    "loopL = wuml.zip_with_joint_permutation(λlist,maxE_list)\n"
   ]
  },
  {
   "cell_type": "code",
   "execution_count": null,
   "metadata": {},
   "outputs": [
    {
     "name": "stdout",
     "output_type": "stream",
     "text": [
      "0 500 3.1658677991490385\n",
      "0 600 3.8420739057291162\n"
     ]
    }
   ],
   "source": [
    "\n",
    "for λ, mx in loopL:\n",
    "    #bNet = wuml.basicNetwork(costFunction, X_train, networkStructure=[(200,'relu'),(200,'relu'),(200,'relu'),(1,'none')], max_epoch=700, learning_rate=0.001)\n",
    "    bNet = wuml.basicNetwork(costFunction, X_train, networkStructure=[(10,'relu'),(10,'relu'),(1,'none')], max_epoch=700, learning_rate=0.001)\n",
    "    bNet.train(print_status=False)\n",
    "\n",
    "    Ŷ_train = bNet(X_train, output_type='ndarray')\t\t#Takes Numpy array or Tensor as input and outputs a Tensor\n",
    "    X_test = wuml.center_and_scale(X_test)\n",
    "    Ŷ_test = bNet(X_test, output_type='ndarray')\t\t#Takes Numpy array or Tensor as input and outputs a Tensor\n",
    "    \n",
    "    e = X_test.Y - np.squeeze(Ŷ_test)\n",
    "    avgError = np.sum(np.absolute(e))/65\n",
    "    print(λ, mx, avgError)\n",
    "    \n"
   ]
  },
  {
   "cell_type": "code",
   "execution_count": null,
   "metadata": {},
   "outputs": [],
   "source": [
    "    #SR = wuml.summarize_regression_result(X_train.Y, Ŷ_train)\n",
    "    #wuml.jupyter_print(SR.true_vs_predict(sort_based_on_label=True), display_all_rows=True)\n",
    "#X_test = wuml.center_and_scale(X_test)\n",
    "#Ŷ_test = bNet(X_test, output_type='ndarray')\t\t#Takes Numpy array or Tensor as input and outputs a Tensor\n",
    "#SR = wuml.summarize_regression_result(X_test.Y, Ŷ_test)\n",
    "#wuml.jupyter_print(SR.true_vs_predict(sort_based_on_label=True),display_all_rows=True)"
   ]
  },
  {
   "cell_type": "code",
   "execution_count": null,
   "metadata": {},
   "outputs": [],
   "source": [
    "#e = X_test.Y - np.squeeze(Ŷ_test)\n",
    "#avgError = np.sum(np.absolute(e))/65\n",
    "#print(avgError)"
   ]
  }
 ],
 "metadata": {
  "kernelspec": {
   "display_name": "Python 3",
   "language": "python",
   "name": "python3"
  },
  "language_info": {
   "codemirror_mode": {
    "name": "ipython",
    "version": 3
   },
   "file_extension": ".py",
   "mimetype": "text/x-python",
   "name": "python",
   "nbconvert_exporter": "python",
   "pygments_lexer": "ipython3",
   "version": "3.8.10"
  }
 },
 "nbformat": 4,
 "nbformat_minor": 5
}
