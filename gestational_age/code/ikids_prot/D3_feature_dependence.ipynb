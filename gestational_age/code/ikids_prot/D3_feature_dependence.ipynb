{
 "cells": [
  {
   "cell_type": "code",
   "execution_count": 1,
   "metadata": {
    "execution": {
     "iopub.execute_input": "2023-03-05T16:58:13.442435Z",
     "iopub.status.busy": "2023-03-05T16:58:13.441967Z",
     "iopub.status.idle": "2023-03-05T16:58:13.448406Z",
     "shell.execute_reply": "2023-03-05T16:58:13.446974Z"
    }
   },
   "outputs": [],
   "source": [
    "#!/usr/bin/env python"
   ]
  },
  {
   "cell_type": "code",
   "execution_count": 2,
   "metadata": {
    "execution": {
     "iopub.execute_input": "2023-03-05T16:58:13.452156Z",
     "iopub.status.busy": "2023-03-05T16:58:13.451900Z",
     "iopub.status.idle": "2023-03-05T16:58:13.456739Z",
     "shell.execute_reply": "2023-03-05T16:58:13.455684Z"
    }
   },
   "outputs": [],
   "source": [
    "import os\n",
    "import sys\n",
    "if os.path.exists('/home/chieh/code/wPlotLib'):\n",
    "\tsys.path.insert(0,'/home/chieh/code/wPlotLib')\n",
    "if os.path.exists('/home/chieh/code/wuML'):\n",
    "\tsys.path.insert(0,'/home/chieh/code/wuML')"
   ]
  },
  {
   "cell_type": "code",
   "execution_count": 3,
   "metadata": {
    "execution": {
     "iopub.execute_input": "2023-03-05T16:58:13.460588Z",
     "iopub.status.busy": "2023-03-05T16:58:13.460323Z",
     "iopub.status.idle": "2023-03-05T16:58:15.064452Z",
     "shell.execute_reply": "2023-03-05T16:58:15.063457Z"
    }
   },
   "outputs": [],
   "source": [
    "import wuml\n",
    "from wuml.IO import *\n",
    "import numpy as np\n",
    "import torch\n",
    "import wplotlib\n",
    "import torch.nn as nn\n",
    "from torch.autograd import Variable\n",
    " "
   ]
  },
  {
   "cell_type": "code",
   "execution_count": 4,
   "metadata": {
    "execution": {
     "iopub.execute_input": "2023-03-05T16:58:15.069571Z",
     "iopub.status.busy": "2023-03-05T16:58:15.069388Z",
     "iopub.status.idle": "2023-03-05T16:58:15.133211Z",
     "shell.execute_reply": "2023-03-05T16:58:15.132392Z"
    }
   },
   "outputs": [],
   "source": [
    "data = wuml.wData(xpath='./data/D3_Imputed_Balanced_regression.csv', mv_columns_to_extra_data='preterm_best', \n",
    "\t\t\t\t\t\tpreprocess_data='center and scale', first_row_is_label=True)"
   ]
  },
  {
   "cell_type": "code",
   "execution_count": 5,
   "metadata": {
    "execution": {
     "iopub.execute_input": "2023-03-05T16:58:15.138252Z",
     "iopub.status.busy": "2023-03-05T16:58:15.138078Z",
     "iopub.status.idle": "2023-03-05T16:58:15.150446Z",
     "shell.execute_reply": "2023-03-05T16:58:15.149857Z"
    }
   },
   "outputs": [
    {
     "name": "stdout",
     "output_type": "stream",
     "text": [
      "Features chosen"
     ]
    },
    {
     "data": {
      "text/html": [
       "<html><body><h5>['sex', 'age_m', 'BMI_prepreg', 'edu_m', 'income', 'preg_number', 'smk_m', 'shs', 'alc', 'stress', 'MBP', 'MBZP', 'MCNP', 'MCOP', 'MCPP', 'MECPP', 'MEHHP', 'MEHP', 'MEOHP', 'MEP', 'MHBP', 'MHIBP', 'MIBP', 'DCP24', 'DCP25', 'BP3', 'BPA', 'BPS', 'MPB', 'PPB', 'TCB', 'TCS', 'gestationAge']</h5></body></html>"
      ],
      "text/plain": [
       "<IPython.core.display.HTML object>"
      ]
     },
     "metadata": {},
     "output_type": "display_data"
    }
   ],
   "source": [
    "jupyter_print('Features chosen')\n",
    "jupyter_print(data.columns)"
   ]
  },
  {
   "cell_type": "code",
   "execution_count": 6,
   "metadata": {
    "execution": {
     "iopub.execute_input": "2023-03-05T16:58:15.183686Z",
     "iopub.status.busy": "2023-03-05T16:58:15.183368Z",
     "iopub.status.idle": "2023-03-05T16:58:15.222013Z",
     "shell.execute_reply": "2023-03-05T16:58:15.221411Z"
    }
   },
   "outputs": [
    {
     "name": "stdout",
     "output_type": "stream",
     "text": [
      "Most correlated feature pairs"
     ]
    },
    {
     "data": {
      "text/html": [
       "<div>\n",
       "<style scoped>\n",
       "    .dataframe tbody tr th:only-of-type {\n",
       "        vertical-align: middle;\n",
       "    }\n",
       "\n",
       "    .dataframe tbody tr th {\n",
       "        vertical-align: top;\n",
       "    }\n",
       "\n",
       "    .dataframe thead th {\n",
       "        text-align: right;\n",
       "    }\n",
       "</style>\n",
       "<table border=\"1\" class=\"dataframe\">\n",
       "  <thead>\n",
       "    <tr style=\"text-align: right;\">\n",
       "      <th></th>\n",
       "      <th></th>\n",
       "      <th>0</th>\n",
       "    </tr>\n",
       "  </thead>\n",
       "  <tbody>\n",
       "    <tr>\n",
       "      <th>DCP24</th>\n",
       "      <th>DCP25</th>\n",
       "      <td>0.964337</td>\n",
       "    </tr>\n",
       "    <tr>\n",
       "      <th>MHIBP</th>\n",
       "      <th>MIBP</th>\n",
       "      <td>0.961284</td>\n",
       "    </tr>\n",
       "    <tr>\n",
       "      <th>MEHHP</th>\n",
       "      <th>MEOHP</th>\n",
       "      <td>0.955426</td>\n",
       "    </tr>\n",
       "    <tr>\n",
       "      <th>MECPP</th>\n",
       "      <th>MEOHP</th>\n",
       "      <td>0.950290</td>\n",
       "    </tr>\n",
       "    <tr>\n",
       "      <th>MBP</th>\n",
       "      <th>MHBP</th>\n",
       "      <td>0.934597</td>\n",
       "    </tr>\n",
       "    <tr>\n",
       "      <th>MECPP</th>\n",
       "      <th>MEHHP</th>\n",
       "      <td>0.925053</td>\n",
       "    </tr>\n",
       "    <tr>\n",
       "      <th>MEHP</th>\n",
       "      <th>MEOHP</th>\n",
       "      <td>0.774845</td>\n",
       "    </tr>\n",
       "    <tr>\n",
       "      <th>MEHHP</th>\n",
       "      <th>MEHP</th>\n",
       "      <td>0.760285</td>\n",
       "    </tr>\n",
       "    <tr>\n",
       "      <th>MECPP</th>\n",
       "      <th>MEHP</th>\n",
       "      <td>0.737548</td>\n",
       "    </tr>\n",
       "    <tr>\n",
       "      <th>MPB</th>\n",
       "      <th>PPB</th>\n",
       "      <td>0.696349</td>\n",
       "    </tr>\n",
       "    <tr>\n",
       "      <th>MCOP</th>\n",
       "      <th>MCPP</th>\n",
       "      <td>0.664709</td>\n",
       "    </tr>\n",
       "    <tr>\n",
       "      <th>income</th>\n",
       "      <th>stress</th>\n",
       "      <td>-0.570036</td>\n",
       "    </tr>\n",
       "    <tr>\n",
       "      <th>edu_m</th>\n",
       "      <th>income</th>\n",
       "      <td>0.554233</td>\n",
       "    </tr>\n",
       "    <tr>\n",
       "      <th rowspan=\"2\" valign=\"top\">age_m</th>\n",
       "      <th>edu_m</th>\n",
       "      <td>0.531708</td>\n",
       "    </tr>\n",
       "    <tr>\n",
       "      <th>income</th>\n",
       "      <td>0.478552</td>\n",
       "    </tr>\n",
       "    <tr>\n",
       "      <th>MCNP</th>\n",
       "      <th>MCOP</th>\n",
       "      <td>0.403308</td>\n",
       "    </tr>\n",
       "    <tr>\n",
       "      <th>income</th>\n",
       "      <th>alc</th>\n",
       "      <td>0.400250</td>\n",
       "    </tr>\n",
       "    <tr>\n",
       "      <th>MCOP</th>\n",
       "      <th>MECPP</th>\n",
       "      <td>0.315989</td>\n",
       "    </tr>\n",
       "    <tr>\n",
       "      <th>MCNP</th>\n",
       "      <th>MCPP</th>\n",
       "      <td>0.313157</td>\n",
       "    </tr>\n",
       "    <tr>\n",
       "      <th>alc</th>\n",
       "      <th>stress</th>\n",
       "      <td>-0.312435</td>\n",
       "    </tr>\n",
       "    <tr>\n",
       "      <th>edu_m</th>\n",
       "      <th>stress</th>\n",
       "      <td>-0.305638</td>\n",
       "    </tr>\n",
       "    <tr>\n",
       "      <th>MCPP</th>\n",
       "      <th>MECPP</th>\n",
       "      <td>0.291957</td>\n",
       "    </tr>\n",
       "    <tr>\n",
       "      <th>MBP</th>\n",
       "      <th>MEOHP</th>\n",
       "      <td>0.287543</td>\n",
       "    </tr>\n",
       "    <tr>\n",
       "      <th>MCPP</th>\n",
       "      <th>MEOHP</th>\n",
       "      <td>0.287533</td>\n",
       "    </tr>\n",
       "    <tr>\n",
       "      <th>smk_m</th>\n",
       "      <th>alc</th>\n",
       "      <td>0.278035</td>\n",
       "    </tr>\n",
       "    <tr>\n",
       "      <th>MCOP</th>\n",
       "      <th>MEHHP</th>\n",
       "      <td>0.272682</td>\n",
       "    </tr>\n",
       "    <tr>\n",
       "      <th>MEP</th>\n",
       "      <th>PPB</th>\n",
       "      <td>0.271732</td>\n",
       "    </tr>\n",
       "    <tr>\n",
       "      <th>MCOP</th>\n",
       "      <th>MEOHP</th>\n",
       "      <td>0.269919</td>\n",
       "    </tr>\n",
       "    <tr>\n",
       "      <th>MBP</th>\n",
       "      <th>MHIBP</th>\n",
       "      <td>0.264900</td>\n",
       "    </tr>\n",
       "    <tr>\n",
       "      <th>edu_m</th>\n",
       "      <th>alc</th>\n",
       "      <td>0.261543</td>\n",
       "    </tr>\n",
       "  </tbody>\n",
       "</table>\n",
       "</div>"
      ],
      "text/plain": [
       "                      0\n",
       "DCP24  DCP25   0.964337\n",
       "MHIBP  MIBP    0.961284\n",
       "MEHHP  MEOHP   0.955426\n",
       "MECPP  MEOHP   0.950290\n",
       "MBP    MHBP    0.934597\n",
       "MECPP  MEHHP   0.925053\n",
       "MEHP   MEOHP   0.774845\n",
       "MEHHP  MEHP    0.760285\n",
       "MECPP  MEHP    0.737548\n",
       "MPB    PPB     0.696349\n",
       "MCOP   MCPP    0.664709\n",
       "income stress -0.570036\n",
       "edu_m  income  0.554233\n",
       "age_m  edu_m   0.531708\n",
       "       income  0.478552\n",
       "MCNP   MCOP    0.403308\n",
       "income alc     0.400250\n",
       "MCOP   MECPP   0.315989\n",
       "MCNP   MCPP    0.313157\n",
       "alc    stress -0.312435\n",
       "edu_m  stress -0.305638\n",
       "MCPP   MECPP   0.291957\n",
       "MBP    MEOHP   0.287543\n",
       "MCPP   MEOHP   0.287533\n",
       "smk_m  alc     0.278035\n",
       "MCOP   MEHHP   0.272682\n",
       "MEP    PPB     0.271732\n",
       "MCOP   MEOHP   0.269919\n",
       "MBP    MHIBP   0.264900\n",
       "edu_m  alc     0.261543"
      ]
     },
     "metadata": {},
     "output_type": "display_data"
    }
   ],
   "source": [
    "top_correlated_pair = wuml.feature_wise_correlation(data, n=30, get_top_corr_pairs=True)\n",
    "jupyter_print('Most correlated feature pairs')\n",
    "jupyter_print(top_correlated_pair, display_all_rows=True)"
   ]
  },
  {
   "cell_type": "code",
   "execution_count": 7,
   "metadata": {
    "execution": {
     "iopub.execute_input": "2023-03-05T16:58:15.225396Z",
     "iopub.status.busy": "2023-03-05T16:58:15.225234Z",
     "iopub.status.idle": "2023-03-05T16:58:15.257547Z",
     "shell.execute_reply": "2023-03-05T16:58:15.256940Z"
    }
   },
   "outputs": [
    {
     "name": "stdout",
     "output_type": "stream",
     "text": [
      "Most correlated features to the label"
     ]
    },
    {
     "data": {
      "text/html": [
       "<div>\n",
       "<style scoped>\n",
       "    .dataframe tbody tr th:only-of-type {\n",
       "        vertical-align: middle;\n",
       "    }\n",
       "\n",
       "    .dataframe tbody tr th {\n",
       "        vertical-align: top;\n",
       "    }\n",
       "\n",
       "    .dataframe thead th {\n",
       "        text-align: right;\n",
       "    }\n",
       "</style>\n",
       "<table border=\"1\" class=\"dataframe\">\n",
       "  <thead>\n",
       "    <tr style=\"text-align: right;\">\n",
       "      <th></th>\n",
       "      <th>gestationAge</th>\n",
       "    </tr>\n",
       "  </thead>\n",
       "  <tbody>\n",
       "    <tr>\n",
       "      <th>stress</th>\n",
       "      <td>-0.188554</td>\n",
       "    </tr>\n",
       "    <tr>\n",
       "      <th>edu_m</th>\n",
       "      <td>0.184940</td>\n",
       "    </tr>\n",
       "    <tr>\n",
       "      <th>income</th>\n",
       "      <td>0.138002</td>\n",
       "    </tr>\n",
       "    <tr>\n",
       "      <th>MBP</th>\n",
       "      <td>-0.109248</td>\n",
       "    </tr>\n",
       "    <tr>\n",
       "      <th>alc</th>\n",
       "      <td>0.105045</td>\n",
       "    </tr>\n",
       "    <tr>\n",
       "      <th>BP3</th>\n",
       "      <td>0.084374</td>\n",
       "    </tr>\n",
       "    <tr>\n",
       "      <th>MHBP</th>\n",
       "      <td>-0.084041</td>\n",
       "    </tr>\n",
       "    <tr>\n",
       "      <th>shs</th>\n",
       "      <td>-0.080022</td>\n",
       "    </tr>\n",
       "    <tr>\n",
       "      <th>BMI_prepreg</th>\n",
       "      <td>-0.077348</td>\n",
       "    </tr>\n",
       "  </tbody>\n",
       "</table>\n",
       "</div>"
      ],
      "text/plain": [
       "             gestationAge\n",
       "stress          -0.188554\n",
       "edu_m            0.184940\n",
       "income           0.138002\n",
       "MBP             -0.109248\n",
       "alc              0.105045\n",
       "BP3              0.084374\n",
       "MHBP            -0.084041\n",
       "shs             -0.080022\n",
       "BMI_prepreg     -0.077348"
      ]
     },
     "metadata": {},
     "output_type": "display_data"
    }
   ],
   "source": [
    "jupyter_print('Most correlated features to the label')\n",
    "most_correlated_to_label = wuml.feature_wise_correlation(data, label_name='gestationAge', get_top_corr_pairs=True)\n",
    "jupyter_print(most_correlated_to_label)"
   ]
  },
  {
   "cell_type": "code",
   "execution_count": 8,
   "metadata": {
    "execution": {
     "iopub.execute_input": "2023-03-05T16:58:15.261593Z",
     "iopub.status.busy": "2023-03-05T16:58:15.261418Z",
     "iopub.status.idle": "2023-03-05T17:12:31.361611Z",
     "shell.execute_reply": "2023-03-05T17:12:31.360861Z"
    }
   },
   "outputs": [
    {
     "name": "stdout",
     "output_type": "stream",
     "text": [
      "Most Dependent HSIC feature pairs"
     ]
    },
    {
     "data": {
      "text/html": [
       "<div>\n",
       "<style scoped>\n",
       "    .dataframe tbody tr th:only-of-type {\n",
       "        vertical-align: middle;\n",
       "    }\n",
       "\n",
       "    .dataframe tbody tr th {\n",
       "        vertical-align: top;\n",
       "    }\n",
       "\n",
       "    .dataframe thead th {\n",
       "        text-align: right;\n",
       "    }\n",
       "</style>\n",
       "<table border=\"1\" class=\"dataframe\">\n",
       "  <thead>\n",
       "    <tr style=\"text-align: right;\">\n",
       "      <th></th>\n",
       "      <th></th>\n",
       "      <th>0</th>\n",
       "    </tr>\n",
       "  </thead>\n",
       "  <tbody>\n",
       "    <tr>\n",
       "      <th>MEHHP</th>\n",
       "      <th>MEOHP</th>\n",
       "      <td>0.852613</td>\n",
       "    </tr>\n",
       "    <tr>\n",
       "      <th>MECPP</th>\n",
       "      <th>MEOHP</th>\n",
       "      <td>0.739611</td>\n",
       "    </tr>\n",
       "    <tr>\n",
       "      <th>MHIBP</th>\n",
       "      <th>MIBP</th>\n",
       "      <td>0.728547</td>\n",
       "    </tr>\n",
       "    <tr>\n",
       "      <th>MBP</th>\n",
       "      <th>MHBP</th>\n",
       "      <td>0.684907</td>\n",
       "    </tr>\n",
       "    <tr>\n",
       "      <th>MECPP</th>\n",
       "      <th>MEHHP</th>\n",
       "      <td>0.683669</td>\n",
       "    </tr>\n",
       "    <tr>\n",
       "      <th>DCP24</th>\n",
       "      <th>DCP25</th>\n",
       "      <td>0.453439</td>\n",
       "    </tr>\n",
       "    <tr>\n",
       "      <th>MPB</th>\n",
       "      <th>PPB</th>\n",
       "      <td>0.422008</td>\n",
       "    </tr>\n",
       "    <tr>\n",
       "      <th>MEHP</th>\n",
       "      <th>MEOHP</th>\n",
       "      <td>0.398671</td>\n",
       "    </tr>\n",
       "    <tr>\n",
       "      <th>MEHHP</th>\n",
       "      <th>MEHP</th>\n",
       "      <td>0.364382</td>\n",
       "    </tr>\n",
       "    <tr>\n",
       "      <th>MCOP</th>\n",
       "      <th>MCPP</th>\n",
       "      <td>0.354424</td>\n",
       "    </tr>\n",
       "  </tbody>\n",
       "</table>\n",
       "</div>"
      ],
      "text/plain": [
       "                    0\n",
       "MEHHP MEOHP  0.852613\n",
       "MECPP MEOHP  0.739611\n",
       "MHIBP MIBP   0.728547\n",
       "MBP   MHBP   0.684907\n",
       "MECPP MEHHP  0.683669\n",
       "DCP24 DCP25  0.453439\n",
       "MPB   PPB    0.422008\n",
       "MEHP  MEOHP  0.398671\n",
       "MEHHP MEHP   0.364382\n",
       "MCOP  MCPP   0.354424"
      ]
     },
     "metadata": {},
     "output_type": "display_data"
    }
   ],
   "source": [
    "jupyter_print('Most Dependent HSIC feature pairs')\n",
    "jupyter_print(wuml.feature_wise_HSIC(data, get_top_dependent_pairs=True))"
   ]
  },
  {
   "cell_type": "code",
   "execution_count": 9,
   "metadata": {
    "execution": {
     "iopub.execute_input": "2023-03-05T17:12:31.366426Z",
     "iopub.status.busy": "2023-03-05T17:12:31.366246Z",
     "iopub.status.idle": "2023-03-05T17:26:48.015810Z",
     "shell.execute_reply": "2023-03-05T17:26:48.014464Z"
    }
   },
   "outputs": [
    {
     "name": "stdout",
     "output_type": "stream",
     "text": [
      "Most HSIC Dependent features to the label"
     ]
    },
    {
     "data": {
      "text/html": [
       "<div>\n",
       "<style scoped>\n",
       "    .dataframe tbody tr th:only-of-type {\n",
       "        vertical-align: middle;\n",
       "    }\n",
       "\n",
       "    .dataframe tbody tr th {\n",
       "        vertical-align: top;\n",
       "    }\n",
       "\n",
       "    .dataframe thead th {\n",
       "        text-align: right;\n",
       "    }\n",
       "</style>\n",
       "<table border=\"1\" class=\"dataframe\">\n",
       "  <thead>\n",
       "    <tr style=\"text-align: right;\">\n",
       "      <th></th>\n",
       "      <th>gestationAge</th>\n",
       "    </tr>\n",
       "  </thead>\n",
       "  <tbody>\n",
       "    <tr>\n",
       "      <th>BP3</th>\n",
       "      <td>0.039356</td>\n",
       "    </tr>\n",
       "    <tr>\n",
       "      <th>edu_m</th>\n",
       "      <td>0.022976</td>\n",
       "    </tr>\n",
       "    <tr>\n",
       "      <th>stress</th>\n",
       "      <td>0.022021</td>\n",
       "    </tr>\n",
       "    <tr>\n",
       "      <th>income</th>\n",
       "      <td>0.021125</td>\n",
       "    </tr>\n",
       "    <tr>\n",
       "      <th>TCB</th>\n",
       "      <td>0.020170</td>\n",
       "    </tr>\n",
       "    <tr>\n",
       "      <th>shs</th>\n",
       "      <td>0.013004</td>\n",
       "    </tr>\n",
       "    <tr>\n",
       "      <th>MEP</th>\n",
       "      <td>0.011607</td>\n",
       "    </tr>\n",
       "    <tr>\n",
       "      <th>PPB</th>\n",
       "      <td>0.010396</td>\n",
       "    </tr>\n",
       "    <tr>\n",
       "      <th>MCNP</th>\n",
       "      <td>0.010031</td>\n",
       "    </tr>\n",
       "  </tbody>\n",
       "</table>\n",
       "</div>"
      ],
      "text/plain": [
       "        gestationAge\n",
       "BP3         0.039356\n",
       "edu_m       0.022976\n",
       "stress      0.022021\n",
       "income      0.021125\n",
       "TCB         0.020170\n",
       "shs         0.013004\n",
       "MEP         0.011607\n",
       "PPB         0.010396\n",
       "MCNP        0.010031"
      ]
     },
     "metadata": {},
     "output_type": "display_data"
    }
   ],
   "source": [
    "jupyter_print('Most HSIC Dependent features to the label')\n",
    "jupyter_print(wuml.feature_wise_HSIC(data, label_name='gestationAge', get_top_dependent_pairs=True))"
   ]
  }
 ],
 "metadata": {
  "kernelspec": {
   "display_name": "Python 3",
   "language": "python",
   "name": "python3"
  },
  "language_info": {
   "codemirror_mode": {
    "name": "ipython",
    "version": 3
   },
   "file_extension": ".py",
   "mimetype": "text/x-python",
   "name": "python",
   "nbconvert_exporter": "python",
   "pygments_lexer": "ipython3",
   "version": "3.8.10"
  }
 },
 "nbformat": 4,
 "nbformat_minor": 2
}
