{
 "cells": [
  {
   "cell_type": "code",
   "execution_count": 1,
   "metadata": {},
   "outputs": [],
   "source": [
    "#!/usr/bin/env python"
   ]
  },
  {
   "cell_type": "code",
   "execution_count": 2,
   "metadata": {},
   "outputs": [],
   "source": [
    "import os\n",
    "import sys\n",
    "if os.path.exists('/home/chieh/code/wPlotLib'):\n",
    "\tsys.path.insert(0,'/home/chieh/code/wPlotLib')\n",
    "if os.path.exists('/home/chieh/code/wuML'):\n",
    "\tsys.path.insert(0,'/home/chieh/code/wuML')"
   ]
  },
  {
   "cell_type": "code",
   "execution_count": 3,
   "metadata": {},
   "outputs": [],
   "source": [
    "from proj_tools import *\n",
    "import wuml\n",
    "import numpy as np\n",
    "import torch\n",
    "import torch.nn as nn"
   ]
  },
  {
   "cell_type": "markdown",
   "metadata": {},
   "source": [
    "The penultimate layer of CE is the input of MSE with batch normalization<br>\n",
    "Denoising autoencoder is added"
   ]
  },
  {
   "cell_type": "code",
   "execution_count": 4,
   "metadata": {},
   "outputs": [],
   "source": [
    "def status_printing(all_losses, epoch, lr):\n",
    "\tif epoch > 1: wuml.clear_previous_line(10)\n",
    "#\n",
    "\t[total_loss, L1 , L2 , L3 , C1 , C2 , β, α] = all_losses\n",
    "\ttxt = '\\tepoch: %d\\n'%epoch\n",
    "\ttxt += '\\tlr: %.10f\\n'%lr\n",
    "\ttxt += '\\tTotal Loss: %.4f\\n'%total_loss\n",
    "\ttxt += '\\tMSE Loss: %.4f\\n'%L2\n",
    "\ttxt += '\\tCE Loss: %.4f\\n'%L3\n",
    "\ttxt += '\\tReconstruct Loss: %.4f\\n'%L1\n",
    "\ttxt += '\\tAbove 42 error: %.4f\\n'%C1\n",
    "\ttxt += '\\tBelow 22 error: %.4f\\n'%C2\n",
    "\ttxt += '\\tType I error: %.4f\\n'%α\n",
    "\ttxt += '\\tType II error: %.4f\\n'%β\n",
    "#\n",
    "\twuml.write_to_current_line(txt)"
   ]
  },
  {
   "cell_type": "markdown",
   "metadata": {},
   "source": [
    "You can also control the behavior of the network on call<br>\n",
    "after creating cNet = wuml.combinedNetwork(...)<br>\n",
    "define this allows you to call cNet(some_data) and return a behavior"
   ]
  },
  {
   "cell_type": "code",
   "execution_count": 5,
   "metadata": {},
   "outputs": [],
   "source": [
    "def network_behavior_on_call(all_data, all_networks):\n",
    "\tenc = all_networks[0]\n",
    "\tdec = all_networks[1]\n",
    "\tce_net = all_networks[2]\n",
    "\tmse_net = all_networks[3]\n",
    "#\n",
    "\t#\tthe 1st 3 items of all_data will always be X, y, index\n",
    "\t#\tthe rest will be what you include\n",
    "\tX = all_data[0]\n",
    "\ty = all_data[1]\t\t\t\t# MSE label\n",
    "\ty2= all_data[2].squeeze()\t\t\t\t# CE label\n",
    "#\n",
    "\t# run data through the networks\n",
    "\tŷᴬ = enc(X)\n",
    "\tŷᴮ = dec(ŷᴬ)\n",
    "\tŷᶜ = ce_net(ŷᴬ)\n",
    "\tŷᴰ = torch.clamp(mse_net(ŷᴬ).squeeze(), min=23, max=41)#\n",
    "\tprob = wuml.softmax(ŷᶜ)\n",
    "\t_, ŷᶜ = torch.max(ŷᶜ, 1)\n",
    "\treturn [ŷᶜ, prob, ŷᴰ]"
   ]
  },
  {
   "cell_type": "code",
   "execution_count": 6,
   "metadata": {},
   "outputs": [],
   "source": [
    "def costFunction(all_data, all_networks):\t\n",
    "\tenc = all_networks[0]\n",
    "\tdec = all_networks[1]\n",
    "\tce_net = all_networks[2]\n",
    "\tmse_net = all_networks[3]\n",
    "#\n",
    "\t#\tthe 1st 3 items of all_data will always be X, y, index\n",
    "\t#\tthe rest will be what you include\n",
    "\tX = all_data[0]\n",
    "\ty = all_data[1]\t\t\t\t# MSE label\n",
    "\tindx = all_data[2]\n",
    "\ty2= all_data[3].squeeze()\t\t\t\t# CE label\n",
    "#\n",
    "\tthreshold = 0.6\n",
    "\t#threshold = 0.8\n",
    "\tmsk = (torch.rand(X.shape) < threshold).long()\n",
    "\tmsk = wuml.ensure_tensor(msk, dataType=torch.FloatTensor)\n",
    "\tXin = torch.mul(X, msk)\n",
    "#\n",
    "\t# run data through the networks\n",
    "\tŷᴬ = enc(Xin)\n",
    "\tŷᴮ = dec(ŷᴬ)\n",
    "\tŷᶜ = ce_net(ŷᴬ)\n",
    "\tŷᴰ = mse_net(ŷᴬ).squeeze()\n",
    "#\n",
    "\tn = X.shape[0]\n",
    "\td = X.shape[1]\n",
    "\trelu = nn.ReLU()\n",
    "#\n",
    "\tL1 = 1*1*wuml.MSELoss(X, ŷᴮ)\t\t\t\t\t\t\t\t\t\t# autoencoder reconstruction loss\n",
    "\tL2 = 1*wuml.MSELoss(y, ŷᴰ)\t\t\t\t\t\t\t\t\t\t\t\t# Regression loss\n",
    "\tL3 = 1*1*wuml.CrossEntropyLoss(y2, ŷᶜ)\t\t\t\t\t\t\t\t# CE loss\n",
    "\tC1 = 1*0.2*torch.sum(relu((ŷᴰ - 42)))/n\t\t\t\t\t\t\t\t# if prediction above 43, its wrong Constraint\n",
    "\tC2 = 1*0.2*torch.sum(relu((23 - ŷᴰ))/n)\t\t\t\t\t\t\t\t# if prediction below 22, its wrong Constrain\n",
    "\tα  = 1*3.0*torch.sum(torch.mul(relu(y - 37), relu(37-ŷᴰ)))/n\t\t# if mature, penalize premature predictions type 1 error\n",
    "\tβ  = 1*2.5*torch.sum(torch.mul(relu(37-y), relu(ŷᴰ - 37)))/n\n",
    "#\n",
    "\ttotal_loss = L1 + L2 + L3 + C1 + C2 + α + β\n",
    "\treturn [total_loss, L1 , L2 , L3 , C1 , C2 , β , α]"
   ]
  },
  {
   "cell_type": "markdown",
   "metadata": {},
   "source": [
    "This data has both regression and classification labels (3 classes)<br>\n",
    "the network will train on both labels by<br>\n",
    "\tusing the 1st network to get 3 softmax outputs, <br>\n",
    "\tfrom the 1st network, it will connect to the 2nd network, <br>\n",
    "\t\texpand to width of 5 and compress down to 1 for regression"
   ]
  },
  {
   "cell_type": "code",
   "execution_count": 7,
   "metadata": {},
   "outputs": [],
   "source": [
    "data = wuml.wData(xpath='./data/D3_Imputed_Balanced_regression.csv', batch_size=32, \n",
    "\t\t\t\t\tlabel_type='continuous', label_column_name='gestationAge',\n",
    "\t\t\t\t\tmv_columns_to_extra_data='preterm_best',\n",
    "\t\t\t\t\tfirst_row_is_label=True)"
   ]
  },
  {
   "cell_type": "code",
   "execution_count": 8,
   "metadata": {},
   "outputs": [],
   "source": [
    "[X_train, X_test, y_train, y_test] = wuml.split_training_test(data, test_percentage=0.2)\n",
    "X_train.Data_preprocess()\n",
    "X_test.Data_preprocess()"
   ]
  },
  {
   "cell_type": "code",
   "execution_count": 9,
   "metadata": {},
   "outputs": [],
   "source": [
    "bottleneck_size = 40\n",
    "d = X_train.shape[1]"
   ]
  },
  {
   "cell_type": "code",
   "execution_count": 10,
   "metadata": {},
   "outputs": [],
   "source": [
    "width = 1000\n",
    "netStructureList = []\n",
    "netStructureList.append([(width,'relu'),('bn', True),(width,'relu'),('bn', True),(width,'relu'),('bn', True),(bottleneck_size,'none')])\n",
    "netStructureList.append([(bottleneck_size,'relu'),(width,'relu'),(width,'relu'),(width,'relu'),(200,'relu'),(d,'none')])\n",
    "netStructureList.append([(2,'none')])\t#CE objective\n",
    "netStructureList.append([(width,'relu'),('bn', True),(width,'relu'),('bn', True),(1,'none')])\t#MSE objective\n",
    "netInputDimList = [d, bottleneck_size, bottleneck_size, bottleneck_size]"
   ]
  },
  {
   "cell_type": "code",
   "execution_count": 11,
   "metadata": {},
   "outputs": [
    {
     "name": "stdout",
     "output_type": "stream",
     "text": [
      "All Networks\n",
      "\tBatch size: 32: \n",
      "\tLearning rate: 0.001\n",
      "\tMax number of epochs: 5000\n",
      "\tCost Function: costFunction\n",
      "\tTrain Loop Callback: status_printing\n",
      "\tCuda Available: True\n",
      "\tNetworks 0 Structure\n",
      "\t\tLinear(in_features=32, out_features=1000, bias=True) , relu\n",
      "\t\tBatchNorm1d(1000, eps=1e-05, momentum=0.1, affine=True, track_running_stats=True) \n",
      "\t\tLinear(in_features=1000, out_features=1000, bias=True) , relu\n",
      "\t\tBatchNorm1d(1000, eps=1e-05, momentum=0.1, affine=True, track_running_stats=True) \n",
      "\t\tLinear(in_features=1000, out_features=1000, bias=True) , relu\n",
      "\t\tBatchNorm1d(1000, eps=1e-05, momentum=0.1, affine=True, track_running_stats=True) \n",
      "\t\tLinear(in_features=1000, out_features=40, bias=True) , none\n",
      "\tNetworks 1 Structure\n",
      "\t\tLinear(in_features=40, out_features=40, bias=True) , relu\n",
      "\t\tLinear(in_features=40, out_features=1000, bias=True) , relu\n",
      "\t\tLinear(in_features=1000, out_features=1000, bias=True) , relu\n",
      "\t\tLinear(in_features=1000, out_features=1000, bias=True) , relu\n",
      "\t\tLinear(in_features=1000, out_features=200, bias=True) , relu\n",
      "\t\tLinear(in_features=200, out_features=32, bias=True) , none\n",
      "\tNetworks 2 Structure\n",
      "\t\tLinear(in_features=40, out_features=2, bias=True) , none\n",
      "\tNetworks 3 Structure\n",
      "\t\tLinear(in_features=40, out_features=1000, bias=True) , relu\n",
      "\t\tBatchNorm1d(1000, eps=1e-05, momentum=0.1, affine=True, track_running_stats=True) \n",
      "\t\tLinear(in_features=1000, out_features=1000, bias=True) , relu\n",
      "\t\tBatchNorm1d(1000, eps=1e-05, momentum=0.1, affine=True, track_running_stats=True) \n",
      "\t\tLinear(in_features=1000, out_features=1, bias=True) , none\n"
     ]
    }
   ],
   "source": [
    "cNet = wuml.combinedNetwork(X_train, netStructureList, netInputDimList, costFunction, \n",
    "\t\t\t\t\t\t\tmax_epoch=5000, on_new_epoch_call_back=status_printing,\n",
    "\t\t\t\t\t\t\tnetwork_behavior_on_call=network_behavior_on_call, learning_rate=0.001, lr_decay_rate=0.5,\n",
    "\t\t\t\t\t\t\tY_dataType=torch.FloatTensor, extra_dataType=[torch.LongTensor]) "
   ]
  },
  {
   "cell_type": "code",
   "execution_count": null,
   "metadata": {},
   "outputs": [
    {
     "name": "stdout",
     "output_type": "stream",
     "text": [
      "\tepoch: 80\n",
      "\tlr: 0.0010000000\n",
      "\tTotal Loss: 6.7836\n",
      "\tMSE Loss: 4.8888\n",
      "\tCE Loss: 0.2992\n",
      "\tReconstruct Loss: 1.3653\n",
      "\tAbove 42 error: 0.0000\n",
      "\tBelow 22 error: 0.0000\n",
      "\tType I error: 0.0000\n",
      "\tType II error: 0.2303\n"
     ]
    }
   ],
   "source": [
    "cNet.fit()\n",
    "wuml.save_torch_network(cNet, './gestNet_1000_60.pk')"
   ]
  },
  {
   "cell_type": "markdown",
   "metadata": {},
   "source": [
    "Training"
   ]
  },
  {
   "cell_type": "code",
   "execution_count": null,
   "metadata": {},
   "outputs": [],
   "source": [
    "[labels, prob_of_positive, gestages] = cNet(X_train, output_type='ndarray')\n",
    "display_results(X_train.Y, gestages, X_train.xDat[0], labels, prob_of_positive)"
   ]
  },
  {
   "cell_type": "markdown",
   "metadata": {},
   "source": [
    "Test"
   ]
  },
  {
   "cell_type": "code",
   "execution_count": null,
   "metadata": {},
   "outputs": [],
   "source": [
    "[labels, prob_of_positive, gestages] = cNet(X_test, output_type='ndarray')\n",
    "display_results(X_test.Y, gestages, X_test.xDat[0], labels, prob_of_positive)"
   ]
  }
 ],
 "metadata": {
  "kernelspec": {
   "display_name": "Python 3",
   "language": "python",
   "name": "python3"
  },
  "language_info": {
   "codemirror_mode": {
    "name": "ipython",
    "version": 3
   },
   "file_extension": ".py",
   "mimetype": "text/x-python",
   "name": "python",
   "nbconvert_exporter": "python",
   "pygments_lexer": "ipython3",
   "version": "3.8.10"
  }
 },
 "nbformat": 4,
 "nbformat_minor": 2
}
