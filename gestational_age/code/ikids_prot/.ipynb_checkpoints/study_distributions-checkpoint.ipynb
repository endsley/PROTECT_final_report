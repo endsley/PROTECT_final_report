{
 "cells": [
  {
   "cell_type": "code",
   "execution_count": 1,
   "metadata": {},
   "outputs": [],
   "source": [
    "#!/usr/bin/env python"
   ]
  },
  {
   "cell_type": "code",
   "execution_count": 2,
   "metadata": {},
   "outputs": [],
   "source": [
    "import os\n",
    "import sys\n",
    "if os.path.exists('/home/chieh/code/wPlotLib'):\n",
    "\tsys.path.insert(0,'/home/chieh/code/wPlotLib')\n",
    "if os.path.exists('/home/chieh/code/wuML'):\n",
    "\tsys.path.insert(0,'/home/chieh/code/wuML')"
   ]
  },
  {
   "cell_type": "code",
   "execution_count": 3,
   "metadata": {},
   "outputs": [],
   "source": [
    "import wuml\n",
    "import numpy as np"
   ]
  },
  {
   "cell_type": "code",
   "execution_count": 4,
   "metadata": {},
   "outputs": [],
   "source": [
    "data = wuml.wData(xpath='./data/D3_Imputed_Balanced_regression.csv', batch_size=32, \n",
    "\t\t\t\t\tlabel_type='discrete', label_column_name='preterm_best',\n",
    "\t\t\t\t\tcolumns_to_ignore='gestationAge', first_row_is_label=True)"
   ]
  },
  {
   "cell_type": "code",
   "execution_count": 5,
   "metadata": {},
   "outputs": [],
   "source": [
    "D1_list = []\n",
    "D2_list = []\n",
    "for i in range(20):\n",
    "\t[X_train, X_test, y_train, y_test] = wuml.split_training_test(data, test_percentage=0.2)\n",
    "\t\n",
    "\tTrain_negative = X_train.get_all_samples_from_a_class(0)\n",
    "\tTrain_positive = X_train.get_all_samples_from_a_class(1)\n",
    "\tTest_positive = X_test.get_all_samples_from_a_class(1)\n",
    "\t\n",
    "\tD1 = wuml.mmd(Train_positive, Test_positive)\n",
    "\tD2 = wuml.mmd(Train_negative, Test_positive)\n",
    "\tD1_list.append(D1)\n",
    "\tD2_list.append(D2)"
   ]
  },
  {
   "cell_type": "code",
   "execution_count": 6,
   "metadata": {},
   "outputs": [
    {
     "name": "stdout",
     "output_type": "stream",
     "text": [
      "MMD Distances for D3\n",
      "\tMean Distance between train positive and test positive = 0.0035 ± 0.000, max = 0.004, min = 0.003\n",
      "\tMean Distance between train negative and test positive = 0.0100 ± 0.000, max = 0.011, min = 0.009\n"
     ]
    }
   ],
   "source": [
    "print('MMD Distances for D3')\n",
    "print('\\tMean Distance between train positive and test positive = %.4f ± %.3f, max = %.3f, min = %.3f'%(np.mean(D1_list), np.std(D1_list), np.max(D1_list), np.min(D1_list)))\n",
    "print('\\tMean Distance between train negative and test positive = %.4f ± %.3f, max = %.3f, min = %.3f'%(np.mean(D2_list), np.std(D2_list), np.max(D2_list), np.min(D2_list)))"
   ]
  },
  {
   "cell_type": "markdown",
   "metadata": {},
   "source": [
    "--D9 ------------------------------------------------------------------------------"
   ]
  },
  {
   "cell_type": "code",
   "execution_count": 7,
   "metadata": {},
   "outputs": [],
   "source": [
    "data = wuml.wData(xpath='./data/D9.csv', batch_size=32, \n",
    "\t\t\t\t\tlabel_type='discrete', label_column_name='preterm_best',\n",
    "\t\t\t\t\tcolumns_to_ignore='gestationAge', first_row_is_label=True)"
   ]
  },
  {
   "cell_type": "code",
   "execution_count": 8,
   "metadata": {},
   "outputs": [],
   "source": [
    "D1_list = []\n",
    "D2_list = []\n",
    "for i in range(20):\n",
    "\t[X_train, X_test, y_train, y_test] = wuml.split_training_test(data, test_percentage=0.2)\n",
    "\t\n",
    "\tTrain_negative = X_train.get_all_samples_from_a_class(0)\n",
    "\tTrain_positive = X_train.get_all_samples_from_a_class(1)\n",
    "\tTest_positive = X_test.get_all_samples_from_a_class(1)\n",
    "\t\n",
    "\tD1 = wuml.mmd(Train_positive, Test_positive)\n",
    "\tD2 = wuml.mmd(Train_negative, Test_positive)\n",
    "\tD1_list.append(D1)\n",
    "\tD2_list.append(D2)"
   ]
  },
  {
   "cell_type": "code",
   "execution_count": 9,
   "metadata": {},
   "outputs": [
    {
     "name": "stdout",
     "output_type": "stream",
     "text": [
      "MMD Distances for D3\n",
      "\tMean Distance between train positive and test positive = 0.0402 ± 0.006, max = 0.060, min = 0.034\n",
      "\tMean Distance between train negative and test positive = 0.0327 ± 0.006, max = 0.053, min = 0.026\n"
     ]
    }
   ],
   "source": [
    "print('MMD Distances for D3')\n",
    "print('\\tMean Distance between train positive and test positive = %.4f ± %.3f, max = %.3f, min = %.3f'%(np.mean(D1_list), np.std(D1_list), np.max(D1_list), np.min(D1_list)))\n",
    "print('\\tMean Distance between train negative and test positive = %.4f ± %.3f, max = %.3f, min = %.3f'%(np.mean(D2_list), np.std(D2_list), np.max(D2_list), np.min(D2_list)))"
   ]
  },
  {
   "cell_type": "markdown",
   "metadata": {},
   "source": [
    "--------------------------------------------------------------------------------"
   ]
  },
  {
   "cell_type": "code",
   "execution_count": 10,
   "metadata": {},
   "outputs": [],
   "source": [
    "D1_list = []\n",
    "D2_list = []\n",
    "Train = wuml.wData(xpath='./data/D7.csv', batch_size=32, \n",
    "\t\t\t\t\tlabel_type='discrete', label_column_name='preterm_best',\n",
    "\t\t\t\t\tcolumns_to_ignore='gestationAge', first_row_is_label=True)"
   ]
  },
  {
   "cell_type": "code",
   "execution_count": 11,
   "metadata": {},
   "outputs": [],
   "source": [
    "Test = wuml.wData(xpath='./data/D7_test.csv', batch_size=32, \n",
    "\t\t\t\t\tlabel_type='discrete', label_column_name='preterm_best',\n",
    "\t\t\t\t\tcolumns_to_ignore='gestationAge', first_row_is_label=True)"
   ]
  },
  {
   "cell_type": "code",
   "execution_count": 12,
   "metadata": {},
   "outputs": [],
   "source": [
    "Train_negative = Train.get_all_samples_from_a_class(0)\n",
    "Train_positive = Train.get_all_samples_from_a_class(1)\n",
    "Test_positive = Test.get_all_samples_from_a_class(1)"
   ]
  },
  {
   "cell_type": "code",
   "execution_count": 13,
   "metadata": {},
   "outputs": [],
   "source": [
    "D1 = wuml.mmd(Train_positive, Test_positive)\n",
    "D2 = wuml.mmd(Train_negative, Test_positive)"
   ]
  },
  {
   "cell_type": "code",
   "execution_count": 14,
   "metadata": {},
   "outputs": [
    {
     "name": "stdout",
     "output_type": "stream",
     "text": [
      "MMD Distances for D7\n",
      "\tDistance between train positive and test positive = 0.0566\n",
      "\tDistance between train negative and test positive = 0.0563\n"
     ]
    }
   ],
   "source": [
    "print('MMD Distances for D7')\n",
    "print('\\tDistance between train positive and test positive = %.4f'%D1)\n",
    "print('\\tDistance between train negative and test positive = %.4f'%D2)"
   ]
  },
  {
   "cell_type": "markdown",
   "metadata": {},
   "source": [
    "--------------------------------------------------------------------------------"
   ]
  },
  {
   "cell_type": "code",
   "execution_count": 15,
   "metadata": {},
   "outputs": [],
   "source": [
    "Train = wuml.wData(xpath='./data/D8.csv', batch_size=32, \n",
    "\t\t\t\t\tlabel_type='discrete', label_column_name='preterm_best',\n",
    "\t\t\t\t\tcolumns_to_ignore='gestationAge', first_row_is_label=True)"
   ]
  },
  {
   "cell_type": "code",
   "execution_count": 16,
   "metadata": {},
   "outputs": [],
   "source": [
    "Test = wuml.wData(xpath='./data/D8_test.csv', batch_size=32, \n",
    "\t\t\t\t\tlabel_type='discrete', label_column_name='preterm_best',\n",
    "\t\t\t\t\tcolumns_to_ignore='gestationAge', first_row_is_label=True)"
   ]
  },
  {
   "cell_type": "code",
   "execution_count": 17,
   "metadata": {},
   "outputs": [],
   "source": [
    "Train_negative = Train.get_all_samples_from_a_class(0)\n",
    "Train_positive = Train.get_all_samples_from_a_class(1)\n",
    "Test_positive = Test.get_all_samples_from_a_class(1)"
   ]
  },
  {
   "cell_type": "code",
   "execution_count": 18,
   "metadata": {},
   "outputs": [],
   "source": [
    "D1 = wuml.mmd(Train_positive, Test_positive)\n",
    "D2 = wuml.mmd(Train_negative, Test_positive)"
   ]
  },
  {
   "cell_type": "code",
   "execution_count": 19,
   "metadata": {},
   "outputs": [
    {
     "name": "stdout",
     "output_type": "stream",
     "text": [
      "MMD Distances for D8\n",
      "\tDistance between train positive and test positive = 0.0447\n",
      "\tDistance between train negative and test positive = 0.0441\n"
     ]
    }
   ],
   "source": [
    "print('MMD Distances for D8')\n",
    "print('\\tDistance between train positive and test positive = %.4f'%D1)\n",
    "print('\\tDistance between train negative and test positive = %.4f'%D2)"
   ]
  }
 ],
 "metadata": {
  "kernelspec": {
   "display_name": "Python 3",
   "language": "python",
   "name": "python3"
  },
  "language_info": {
   "codemirror_mode": {
    "name": "ipython",
    "version": 3
   },
   "file_extension": ".py",
   "mimetype": "text/x-python",
   "name": "python",
   "nbconvert_exporter": "python",
   "pygments_lexer": "ipython3",
   "version": "3.8.10"
  }
 },
 "nbformat": 4,
 "nbformat_minor": 2
}
