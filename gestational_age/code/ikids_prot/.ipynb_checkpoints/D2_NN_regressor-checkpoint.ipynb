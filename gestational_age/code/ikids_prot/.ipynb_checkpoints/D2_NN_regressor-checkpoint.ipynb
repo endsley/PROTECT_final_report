{
 "cells": [
  {
   "cell_type": "code",
   "execution_count": 1,
   "metadata": {},
   "outputs": [],
   "source": [
    "#!/usr/bin/env python"
   ]
  },
  {
   "cell_type": "code",
   "execution_count": 2,
   "metadata": {},
   "outputs": [],
   "source": [
    "import os\n",
    "import sys\n",
    "if os.path.exists('/home/chieh/code/wPlotLib'):\n",
    "\tsys.path.insert(0,'/home/chieh/code/wPlotLib')\n",
    "if os.path.exists('/home/chieh/code/wuML'):\n",
    "\tsys.path.insert(0,'/home/chieh/code/wuML')"
   ]
  },
  {
   "cell_type": "code",
   "execution_count": 3,
   "metadata": {},
   "outputs": [],
   "source": [
    "import wuml\n",
    "from wuml.IO import *\n",
    "from precision_recall import *\n",
    "import numpy as np\n",
    "import torch\n",
    "import wplotlib\n",
    "import torch.nn as nn\n",
    " "
   ]
  },
  {
   "cell_type": "code",
   "execution_count": 4,
   "metadata": {},
   "outputs": [],
   "source": [
    "def costFunction(x, y, ŷ, ind):\n",
    "\treturn torch.sum((y- ŷ) ** 2)"
   ]
  },
  {
   "cell_type": "code",
   "execution_count": 5,
   "metadata": {},
   "outputs": [],
   "source": [
    "def costFunction2(x, y, ŷ, ind):\n",
    "\tn = x.shape[0]\n",
    "\trelu = nn.ReLU()\n",
    "\tR = torch.sum((y - ŷ) ** 2)\n",
    "\tR3 = 10*torch.sum(relu((ŷ - 42)))\t# if prediction above 43, its wrong\n",
    "\tR4 = 10*torch.sum(relu((23 - ŷ)))\t# if prediction below 22, its wrong\n",
    "\tR5 = 30*(torch.sum(relu((ŷ - y)))*torch.sum(relu((37-y))))/(n*n)\n",
    "\tloss = R + R3 + R4 + R5\n",
    "\treturn loss"
   ]
  },
  {
   "cell_type": "code",
   "execution_count": 6,
   "metadata": {},
   "outputs": [],
   "source": [
    "data = wuml.wData(xpath='./data/D2_Imputed_Balanced_regression.csv', batch_size=32, \n",
    "\t\t\t\t\tlabel_type='continuous', label_column_name='gestationAge', first_row_is_label=True)"
   ]
  },
  {
   "cell_type": "code",
   "execution_count": 7,
   "metadata": {},
   "outputs": [],
   "source": [
    "[X_train, X_test, y_train, y_test] = wuml.split_training_test(data, test_percentage=0.1)\n",
    "y_train_pre = X_train.pop_column('preterm_best')\n",
    "y_test_pre = X_test.pop_column('preterm_best')"
   ]
  },
  {
   "cell_type": "code",
   "execution_count": 8,
   "metadata": {},
   "outputs": [],
   "source": [
    "X_train.Data_preprocess()\n",
    "X_test.Data_preprocess()"
   ]
  },
  {
   "cell_type": "markdown",
   "metadata": {},
   "source": [
    "Objective 1 --------------------------------------------"
   ]
  },
  {
   "cell_type": "code",
   "execution_count": null,
   "metadata": {},
   "outputs": [
    {
     "name": "stdout",
     "output_type": "stream",
     "text": [
      "\tepoch: 160, Avg Loss: 50.9874, Learning Rate: 0.01000000"
     ]
    }
   ],
   "source": [
    "bNet = wuml.basicNetwork(costFunction, X_train, networkStructure=[(600,'relu'),(600,'relu'),(600,'relu'),(1,'none')], max_epoch=4000, learning_rate=0.01)\n",
    "bNet.train(print_status=True)"
   ]
  },
  {
   "cell_type": "markdown",
   "metadata": {},
   "source": [
    "This is the objective network output Training error"
   ]
  },
  {
   "cell_type": "code",
   "execution_count": null,
   "metadata": {},
   "outputs": [],
   "source": [
    "ẙ = bNet(X_train, output_type='ndarray')\t\n",
    "gestational_precision_recall(ẙ, y_train_pre)\n",
    "res = wuml.output_regression_result(y_train, ẙ, sort_by='error')"
   ]
  },
  {
   "cell_type": "markdown",
   "metadata": {},
   "source": [
    "This is the objective network output Test error"
   ]
  },
  {
   "cell_type": "code",
   "execution_count": null,
   "metadata": {},
   "outputs": [],
   "source": [
    "ẙ = bNet(X_test, output_type='ndarray')\t\n",
    "gestational_precision_recall(ẙ, y_test_pre)\n",
    "res = wuml.output_regression_result(y_test, ẙ, sort_by='error')"
   ]
  },
  {
   "cell_type": "markdown",
   "metadata": {},
   "source": [
    "Objective 2 --------------------------------------------"
   ]
  },
  {
   "cell_type": "code",
   "execution_count": null,
   "metadata": {},
   "outputs": [],
   "source": [
    "bNet = wuml.basicNetwork(costFunction2, X_train, networkStructure=[(600,'relu'),(600,'relu'),(600,'relu'),(1,'none')], max_epoch=4000, learning_rate=0.01)\n",
    "bNet.train(print_status=True)"
   ]
  },
  {
   "cell_type": "markdown",
   "metadata": {},
   "source": [
    "This is the objective network output Training error"
   ]
  },
  {
   "cell_type": "code",
   "execution_count": null,
   "metadata": {},
   "outputs": [],
   "source": [
    "ẙ = bNet(X_train, output_type='ndarray')\t\n",
    "gestational_precision_recall(ẙ, y_train_pre)\n",
    "res = wuml.output_regression_result(y_train, ẙ, sort_by='error')"
   ]
  },
  {
   "cell_type": "markdown",
   "metadata": {},
   "source": [
    "This is the objective network output Test error"
   ]
  },
  {
   "cell_type": "code",
   "execution_count": null,
   "metadata": {},
   "outputs": [],
   "source": [
    "ẙ = bNet(X_test, output_type='ndarray')\t\n",
    "gestational_precision_recall(ẙ, y_test_pre)\n",
    "res = wuml.output_regression_result(y_test, ẙ, sort_by='error')"
   ]
  }
 ],
 "metadata": {
  "kernelspec": {
   "display_name": "Python 3",
   "language": "python",
   "name": "python3"
  },
  "language_info": {
   "codemirror_mode": {
    "name": "ipython",
    "version": 3
   },
   "file_extension": ".py",
   "mimetype": "text/x-python",
   "name": "python",
   "nbconvert_exporter": "python",
   "pygments_lexer": "ipython3",
   "version": "3.8.10"
  }
 },
 "nbformat": 4,
 "nbformat_minor": 2
}
