{
 "cells": [
  {
   "cell_type": "code",
   "execution_count": 1,
   "metadata": {},
   "outputs": [],
   "source": [
    "#!/usr/bin/env python"
   ]
  },
  {
   "cell_type": "code",
   "execution_count": 2,
   "metadata": {},
   "outputs": [],
   "source": [
    "import os\n",
    "import sys\n",
    "if os.path.exists('/home/chieh/code/wPlotLib'):\n",
    "\tsys.path.insert(0,'/home/chieh/code/wPlotLib')\n",
    "if os.path.exists('/home/chieh/code/wuML'):\n",
    "\tsys.path.insert(0,'/home/chieh/code/wuML')"
   ]
  },
  {
   "cell_type": "code",
   "execution_count": 3,
   "metadata": {},
   "outputs": [],
   "source": [
    "import wuml\n",
    "from wuml.IO import *\n",
    "import numpy as np\n",
    "import torch\n",
    "import wplotlib\n",
    "import torch.nn as nn\n",
    "from torch.autograd import Variable\n",
    " "
   ]
  },
  {
   "cell_type": "code",
   "execution_count": 4,
   "metadata": {},
   "outputs": [],
   "source": [
    "data = wuml.wData(xpath='./data/data_1_imputed.csv', batch_size=32, \n",
    "\t\t\t\t\tlabel_type='continuous', \n",
    "\t\t\t\t\tfirst_row_is_label=True)"
   ]
  },
  {
   "cell_type": "code",
   "execution_count": 5,
   "metadata": {},
   "outputs": [
    {
     "data": {
      "text/html": [
       "<html><body><h5>Features chosen</h5></body></html>"
      ],
      "text/plain": [
       "<IPython.core.display.HTML object>"
      ]
     },
     "metadata": {},
     "output_type": "display_data"
    },
    {
     "data": {
      "text/html": [
       "<html><body><h5>['sex', 'age_m', 'BMI_prepreg', 'edu_m', 'income', 'preg_number', 'smk_m', 'shs', 'alc', 'stress', 'MBP', 'MBZP', 'MCNP', 'MCOP', 'MCPP', 'MECPP', 'MEHHP', 'MEHP', 'MEOHP', 'MEP', 'MHBP', 'MHIBP', 'MIBP', 'DCP24', 'DCP25', 'BP3', 'BPA', 'BPS', 'MPB', 'PPB', 'TCB', 'TCS', 'gestationAge']</h5></body></html>"
      ],
      "text/plain": [
       "<IPython.core.display.HTML object>"
      ]
     },
     "metadata": {},
     "output_type": "display_data"
    }
   ],
   "source": [
    "jupyter_print('Features chosen')\n",
    "jupyter_print(data.columns)"
   ]
  },
  {
   "cell_type": "code",
   "execution_count": 6,
   "metadata": {},
   "outputs": [
    {
     "data": {
      "text/html": [
       "<html><body><h5>Most correlated feature pairs</h5></body></html>"
      ],
      "text/plain": [
       "<IPython.core.display.HTML object>"
      ]
     },
     "metadata": {},
     "output_type": "display_data"
    },
    {
     "data": {
      "text/html": [
       "<div>\n",
       "<style scoped>\n",
       "    .dataframe tbody tr th:only-of-type {\n",
       "        vertical-align: middle;\n",
       "    }\n",
       "\n",
       "    .dataframe tbody tr th {\n",
       "        vertical-align: top;\n",
       "    }\n",
       "\n",
       "    .dataframe thead th {\n",
       "        text-align: right;\n",
       "    }\n",
       "</style>\n",
       "<table border=\"1\" class=\"dataframe\">\n",
       "  <thead>\n",
       "    <tr style=\"text-align: right;\">\n",
       "      <th></th>\n",
       "      <th></th>\n",
       "      <th>0</th>\n",
       "    </tr>\n",
       "  </thead>\n",
       "  <tbody>\n",
       "    <tr>\n",
       "      <th>MHIBP</th>\n",
       "      <th>MIBP</th>\n",
       "      <td>0.972455</td>\n",
       "    </tr>\n",
       "    <tr>\n",
       "      <th>MEHHP</th>\n",
       "      <th>MEOHP</th>\n",
       "      <td>0.962923</td>\n",
       "    </tr>\n",
       "    <tr>\n",
       "      <th>MECPP</th>\n",
       "      <th>MEOHP</th>\n",
       "      <td>0.957942</td>\n",
       "    </tr>\n",
       "    <tr>\n",
       "      <th>DCP24</th>\n",
       "      <th>DCP25</th>\n",
       "      <td>0.952469</td>\n",
       "    </tr>\n",
       "    <tr>\n",
       "      <th>MECPP</th>\n",
       "      <th>MEHHP</th>\n",
       "      <td>0.941484</td>\n",
       "    </tr>\n",
       "    <tr>\n",
       "      <th>MBP</th>\n",
       "      <th>MHBP</th>\n",
       "      <td>0.910900</td>\n",
       "    </tr>\n",
       "    <tr>\n",
       "      <th>MEHP</th>\n",
       "      <th>MEOHP</th>\n",
       "      <td>0.812677</td>\n",
       "    </tr>\n",
       "    <tr>\n",
       "      <th>MECPP</th>\n",
       "      <th>MEHP</th>\n",
       "      <td>0.803252</td>\n",
       "    </tr>\n",
       "    <tr>\n",
       "      <th>MEHHP</th>\n",
       "      <th>MEHP</th>\n",
       "      <td>0.791643</td>\n",
       "    </tr>\n",
       "    <tr>\n",
       "      <th>MPB</th>\n",
       "      <th>PPB</th>\n",
       "      <td>0.714042</td>\n",
       "    </tr>\n",
       "    <tr>\n",
       "      <th>MCOP</th>\n",
       "      <th>MCPP</th>\n",
       "      <td>0.678999</td>\n",
       "    </tr>\n",
       "    <tr>\n",
       "      <th>income</th>\n",
       "      <th>stress</th>\n",
       "      <td>-0.544309</td>\n",
       "    </tr>\n",
       "    <tr>\n",
       "      <th>age_m</th>\n",
       "      <th>edu_m</th>\n",
       "      <td>0.521015</td>\n",
       "    </tr>\n",
       "    <tr>\n",
       "      <th>edu_m</th>\n",
       "      <th>income</th>\n",
       "      <td>0.516773</td>\n",
       "    </tr>\n",
       "    <tr>\n",
       "      <th>age_m</th>\n",
       "      <th>income</th>\n",
       "      <td>0.473989</td>\n",
       "    </tr>\n",
       "    <tr>\n",
       "      <th>income</th>\n",
       "      <th>alc</th>\n",
       "      <td>0.351274</td>\n",
       "    </tr>\n",
       "    <tr>\n",
       "      <th>MCNP</th>\n",
       "      <th>MCOP</th>\n",
       "      <td>0.335702</td>\n",
       "    </tr>\n",
       "    <tr>\n",
       "      <th>alc</th>\n",
       "      <th>stress</th>\n",
       "      <td>-0.296449</td>\n",
       "    </tr>\n",
       "    <tr>\n",
       "      <th rowspan=\"2\" valign=\"top\">MBP</th>\n",
       "      <th>MEOHP</th>\n",
       "      <td>0.288496</td>\n",
       "    </tr>\n",
       "    <tr>\n",
       "      <th>MECPP</th>\n",
       "      <td>0.279455</td>\n",
       "    </tr>\n",
       "    <tr>\n",
       "      <th>MBZP</th>\n",
       "      <th>MHBP</th>\n",
       "      <td>0.268978</td>\n",
       "    </tr>\n",
       "    <tr>\n",
       "      <th>MCPP</th>\n",
       "      <th>MEOHP</th>\n",
       "      <td>0.261814</td>\n",
       "    </tr>\n",
       "    <tr>\n",
       "      <th>MCNP</th>\n",
       "      <th>MCPP</th>\n",
       "      <td>0.261781</td>\n",
       "    </tr>\n",
       "    <tr>\n",
       "      <th>MCPP</th>\n",
       "      <th>MECPP</th>\n",
       "      <td>0.260770</td>\n",
       "    </tr>\n",
       "    <tr>\n",
       "      <th>MCOP</th>\n",
       "      <th>MECPP</th>\n",
       "      <td>0.257458</td>\n",
       "    </tr>\n",
       "    <tr>\n",
       "      <th>smk_m</th>\n",
       "      <th>alc</th>\n",
       "      <td>0.256402</td>\n",
       "    </tr>\n",
       "    <tr>\n",
       "      <th>edu_m</th>\n",
       "      <th>stress</th>\n",
       "      <td>-0.254921</td>\n",
       "    </tr>\n",
       "    <tr>\n",
       "      <th>MBP</th>\n",
       "      <th>MHIBP</th>\n",
       "      <td>0.245794</td>\n",
       "    </tr>\n",
       "    <tr>\n",
       "      <th>MEP</th>\n",
       "      <th>PPB</th>\n",
       "      <td>0.243393</td>\n",
       "    </tr>\n",
       "    <tr>\n",
       "      <th>MBP</th>\n",
       "      <th>MEHHP</th>\n",
       "      <td>0.234874</td>\n",
       "    </tr>\n",
       "  </tbody>\n",
       "</table>\n",
       "</div>"
      ],
      "text/plain": [
       "                      0\n",
       "MHIBP  MIBP    0.972455\n",
       "MEHHP  MEOHP   0.962923\n",
       "MECPP  MEOHP   0.957942\n",
       "DCP24  DCP25   0.952469\n",
       "MECPP  MEHHP   0.941484\n",
       "MBP    MHBP    0.910900\n",
       "MEHP   MEOHP   0.812677\n",
       "MECPP  MEHP    0.803252\n",
       "MEHHP  MEHP    0.791643\n",
       "MPB    PPB     0.714042\n",
       "MCOP   MCPP    0.678999\n",
       "income stress -0.544309\n",
       "age_m  edu_m   0.521015\n",
       "edu_m  income  0.516773\n",
       "age_m  income  0.473989\n",
       "income alc     0.351274\n",
       "MCNP   MCOP    0.335702\n",
       "alc    stress -0.296449\n",
       "MBP    MEOHP   0.288496\n",
       "       MECPP   0.279455\n",
       "MBZP   MHBP    0.268978\n",
       "MCPP   MEOHP   0.261814\n",
       "MCNP   MCPP    0.261781\n",
       "MCPP   MECPP   0.260770\n",
       "MCOP   MECPP   0.257458\n",
       "smk_m  alc     0.256402\n",
       "edu_m  stress -0.254921\n",
       "MBP    MHIBP   0.245794\n",
       "MEP    PPB     0.243393\n",
       "MBP    MEHHP   0.234874"
      ]
     },
     "metadata": {},
     "output_type": "display_data"
    }
   ],
   "source": [
    "top_correlated_pair = wuml.feature_wise_correlation(data, n=30, get_top_corr_pairs=True)\n",
    "jupyter_print('Most correlated feature pairs')\n",
    "jupyter_print(top_correlated_pair, display_all_rows=True)"
   ]
  },
  {
   "cell_type": "code",
   "execution_count": 7,
   "metadata": {},
   "outputs": [
    {
     "data": {
      "text/html": [
       "<html><body><h5>Most correlated features to the label</h5></body></html>"
      ],
      "text/plain": [
       "<IPython.core.display.HTML object>"
      ]
     },
     "metadata": {},
     "output_type": "display_data"
    },
    {
     "data": {
      "text/html": [
       "<div>\n",
       "<style scoped>\n",
       "    .dataframe tbody tr th:only-of-type {\n",
       "        vertical-align: middle;\n",
       "    }\n",
       "\n",
       "    .dataframe tbody tr th {\n",
       "        vertical-align: top;\n",
       "    }\n",
       "\n",
       "    .dataframe thead th {\n",
       "        text-align: right;\n",
       "    }\n",
       "</style>\n",
       "<table border=\"1\" class=\"dataframe\">\n",
       "  <thead>\n",
       "    <tr style=\"text-align: right;\">\n",
       "      <th></th>\n",
       "      <th>gestationAge</th>\n",
       "    </tr>\n",
       "  </thead>\n",
       "  <tbody>\n",
       "    <tr>\n",
       "      <th>edu_m</th>\n",
       "      <td>0.128932</td>\n",
       "    </tr>\n",
       "    <tr>\n",
       "      <th>income</th>\n",
       "      <td>0.102594</td>\n",
       "    </tr>\n",
       "    <tr>\n",
       "      <th>stress</th>\n",
       "      <td>-0.100399</td>\n",
       "    </tr>\n",
       "    <tr>\n",
       "      <th>alc</th>\n",
       "      <td>0.097769</td>\n",
       "    </tr>\n",
       "    <tr>\n",
       "      <th>MBP</th>\n",
       "      <td>-0.072898</td>\n",
       "    </tr>\n",
       "    <tr>\n",
       "      <th>shs</th>\n",
       "      <td>-0.071843</td>\n",
       "    </tr>\n",
       "    <tr>\n",
       "      <th>MHBP</th>\n",
       "      <td>-0.063045</td>\n",
       "    </tr>\n",
       "    <tr>\n",
       "      <th>preg_number</th>\n",
       "      <td>-0.062467</td>\n",
       "    </tr>\n",
       "    <tr>\n",
       "      <th>BMI_prepreg</th>\n",
       "      <td>-0.052589</td>\n",
       "    </tr>\n",
       "  </tbody>\n",
       "</table>\n",
       "</div>"
      ],
      "text/plain": [
       "             gestationAge\n",
       "edu_m            0.128932\n",
       "income           0.102594\n",
       "stress          -0.100399\n",
       "alc              0.097769\n",
       "MBP             -0.072898\n",
       "shs             -0.071843\n",
       "MHBP            -0.063045\n",
       "preg_number     -0.062467\n",
       "BMI_prepreg     -0.052589"
      ]
     },
     "metadata": {},
     "output_type": "display_data"
    }
   ],
   "source": [
    "jupyter_print('Most correlated features to the label')\n",
    "most_correlated_to_label = wuml.feature_wise_correlation(data, label_name='gestationAge', get_top_corr_pairs=True)\n",
    "jupyter_print(most_correlated_to_label)"
   ]
  },
  {
   "cell_type": "code",
   "execution_count": null,
   "metadata": {},
   "outputs": [
    {
     "data": {
      "text/html": [
       "<html><body><h5>Most Dependent HSIC feature pairs</h5></body></html>"
      ],
      "text/plain": [
       "<IPython.core.display.HTML object>"
      ]
     },
     "metadata": {},
     "output_type": "display_data"
    }
   ],
   "source": [
    "jupyter_print('Most Dependent HSIC feature pairs')\n",
    "jupyter_print(wuml.feature_wise_HSIC(data, get_top_dependent_pairs=True))"
   ]
  },
  {
   "cell_type": "code",
   "execution_count": null,
   "metadata": {},
   "outputs": [],
   "source": [
    "jupyter_print('Most HSIC Dependent features to the label')\n",
    "jupyter_print(wuml.feature_wise_HSIC(data, label_name='gestationAge', get_top_dependent_pairs=True))"
   ]
  }
 ],
 "metadata": {
  "kernelspec": {
   "display_name": "Python 3",
   "language": "python",
   "name": "python3"
  },
  "language_info": {
   "codemirror_mode": {
    "name": "ipython",
    "version": 3
   },
   "file_extension": ".py",
   "mimetype": "text/x-python",
   "name": "python",
   "nbconvert_exporter": "python",
   "pygments_lexer": "ipython3",
   "version": "3.8.10"
  }
 },
 "nbformat": 4,
 "nbformat_minor": 2
}
